{
  "cells": [
    {
      "metadata": {
        "trusted": true,
        "_uuid": "c74347c8c9e33c8aac6ff8ebbf677dfcbf0c8312"
      },
      "cell_type": "code",
      "source": "import numpy as np\nimport pandas as pd\nimport seaborn as sns\nimport matplotlib.pyplot as plt\nstore = pd.HDFStore('store.h5')",
      "execution_count": null,
      "outputs": []
    },
    {
      "metadata": {
        "trusted": true,
        "_uuid": "2fd580aa8c7fa4eea2c6a5a9959d2b2c53e92dcf"
      },
      "cell_type": "code",
      "source": "tr = pd.read_csv('../input/X_train.csv')\nte = pd.read_csv('../input/X_test.csv')",
      "execution_count": null,
      "outputs": []
    },
    {
      "metadata": {
        "trusted": true,
        "_uuid": "ec1684a8359230462590fb905dad2b0853304929"
      },
      "cell_type": "code",
      "source": "target = pd.read_csv('../input/y_train.csv')\nss = pd.read_csv('../input/sample_submission.csv')",
      "execution_count": null,
      "outputs": []
    },
    {
      "metadata": {
        "trusted": true,
        "_uuid": "e122c908ee0829cb33b48d5d2cde6fd60155f420"
      },
      "cell_type": "code",
      "source": "# It looks like linear acceleration in Z direction has gravity recorded. Lets remove gravity part.\nimport scipy.constants as const\ntr['linear_acceleration_Z'] = tr['linear_acceleration_Z'] + const.g",
      "execution_count": null,
      "outputs": []
    },
    {
      "metadata": {
        "trusted": true,
        "_uuid": "034ba4ab1ac5d15e8f2182a65d2ba933084de14b"
      },
      "cell_type": "code",
      "source": "tr.shape, te.shape",
      "execution_count": null,
      "outputs": []
    },
    {
      "metadata": {
        "trusted": true,
        "_uuid": "d5c13b604ff043bffa2f70ef7853c8bb2f61c2ff"
      },
      "cell_type": "code",
      "source": "# Number of time series in train and test sets\ntr.shape[0]/128, te.shape[0]/128",
      "execution_count": null,
      "outputs": []
    },
    {
      "metadata": {
        "trusted": true,
        "_uuid": "1546fc787eeb3c1a2055cc3245c606f6a1a7cb8c"
      },
      "cell_type": "code",
      "source": "tr.head()",
      "execution_count": null,
      "outputs": []
    },
    {
      "metadata": {
        "trusted": true,
        "_uuid": "9dfd978fcce638d05ad2f92e8b5d0a53f305b902"
      },
      "cell_type": "code",
      "source": "sns.countplot(y = 'surface', data = target)\nplt.show()",
      "execution_count": null,
      "outputs": []
    },
    {
      "metadata": {
        "trusted": true,
        "_uuid": "bc08e917992b7a31e7e879972a9b55ff4054033b"
      },
      "cell_type": "code",
      "source": "# Function to convert quaternions to euler angles\ndef t2(x):\n    if x > +1.0:\n        return +1.0\n    elif x < -1.0:\n        return -1.0\n    else:\n        return x\n\nvt2 = np.vectorize(t2)\n\ndef quaternion_to_euler(x, y, z, w):\n    \n    t0 = +2.0 * ((w * x) + (y * z))\n    t1 = +1.0 - 2.0 * ((x**2) + (y**2))\n    X = np.arctan2(t0, t1)\n\n    t2 = +2.0 * (w * y - z * x)\n    t2 = vt2(t2)\n    Y = np.arcsin(t2)\n\n    t3 = +2.0 * (w * z + x * y)\n    t4 = +1.0 - 2.0 * (y**2 + z**2)\n    Z = np.arctan2(t3, t4)\n\n    return X, Y, Z",
      "execution_count": null,
      "outputs": []
    },
    {
      "metadata": {
        "trusted": true,
        "_uuid": "71c3ffec1ec8c1c4755fdaea4ae37929a9facf3e"
      },
      "cell_type": "code",
      "source": "# Converting to Euler Angles\ndef add_euler_angles(actual):\n    \n    x, y, z, w = actual['orientation_X'].values, actual['orientation_Y'].values, actual['orientation_Z'].values, actual['orientation_W'].values\n    nx,ny,nz = quaternion_to_euler(x, y, z, w)\n       \n    actual['euler_x'] = nx\n    actual['euler_y'] = ny\n    actual['euler_z'] = nz\n    \n    return actual",
      "execution_count": null,
      "outputs": []
    },
    {
      "metadata": {
        "trusted": true,
        "_uuid": "175842f922010bec636642ad3069e67956bfafcf"
      },
      "cell_type": "code",
      "source": "# Applying add_euler_angles to dataset\ntr = add_euler_angles(tr)\nte = add_euler_angles(te)",
      "execution_count": null,
      "outputs": []
    },
    {
      "metadata": {
        "trusted": true,
        "_uuid": "1df0ec8efc88762991a0c2f3b7e102a56566cc23"
      },
      "cell_type": "code",
      "source": "tr.head()",
      "execution_count": null,
      "outputs": []
    },
    {
      "metadata": {
        "trusted": true,
        "_uuid": "2904f2d0bd28cd82e6fda6a282c4618549f92e06"
      },
      "cell_type": "code",
      "source": "# Checkpoint 1 - Saving data\nstore['tr_1'] = tr\nstore['te_1'] = te",
      "execution_count": null,
      "outputs": []
    },
    {
      "metadata": {
        "trusted": true,
        "_uuid": "478f7b803a22bdf8618ec370b2e4f44c916c38aa"
      },
      "cell_type": "code",
      "source": "def integrate(actual, col, new_value):\n    temp = pd.DataFrame()\n    for x in range(int(actual.shape[0]/128)):\n        temp = pd.concat([temp, np.cumsum(actual.loc[actual['series_id']==x,col])], axis=0)\n    temp.reset_index(inplace=True)\n    temp.drop('index', axis=1, inplace=True)\n    temp.columns = [new_value + x[-1] for x in col]\n    return pd.concat([actual, temp], axis=1)",
      "execution_count": null,
      "outputs": []
    },
    {
      "metadata": {
        "trusted": true,
        "_uuid": "b764acbce6bef966ebe62e8b03d0b467ed726713"
      },
      "cell_type": "code",
      "source": "tr = integrate(tr, col=['linear_acceleration_X','linear_acceleration_Y','linear_acceleration_Z'], new_value='linear_velocity_')\nte = integrate(te, col=['linear_acceleration_X','linear_acceleration_Y','linear_acceleration_Z'], new_value='linear_velocity_')",
      "execution_count": null,
      "outputs": []
    },
    {
      "metadata": {
        "trusted": true,
        "_uuid": "1bbdaec3f02cb6489eca587d70b08e2f419d0507"
      },
      "cell_type": "code",
      "source": "tr = integrate(tr, col=['linear_velocity_X','linear_velocity_Y','linear_velocity_Z'], new_value='linear_disp_')\nte = integrate(te, col=['linear_velocity_X','linear_velocity_Y','linear_velocity_Z'], new_value='linear_disp_')",
      "execution_count": null,
      "outputs": []
    },
    {
      "metadata": {
        "trusted": true,
        "_uuid": "2519410fa50144a97eb1723dec127155b434755d"
      },
      "cell_type": "code",
      "source": "tr.head()",
      "execution_count": null,
      "outputs": []
    },
    {
      "metadata": {
        "trusted": true,
        "_uuid": "e1f7932fa81b816f83f17f50e8387dd544bb3a6d"
      },
      "cell_type": "code",
      "source": "# Feature Engineering - Physics\ndef fe_ph(actual):\n    \n    # Total rotational kinetic energy KE - 0.5 * I * omega**2 where I = m * r**2 assuming m=2 and r=1\n    actual['total_rot_ke'] = (actual['angular_velocity_X'] ** 2 + \n                              actual['angular_velocity_Y'] ** 2 + \n                              actual['angular_velocity_Z'] ** 2)\n    \n    # Total linear accelration = root of sum of squares of accelearation in x, y direction\n    actual['total_lin_accel'] = (actual['linear_acceleration_X'] ** 2 + \n                                 actual['linear_acceleration_Y'] ** 2) ** 0.5\n    \n    \n    actual['ke_vs_accel'] = actual['total_rot_ke'] / actual['total_lin_accel']\n    \n    \n    # Total Angle - nothing like this exists in reality\n    actual['total_angle'] = (actual['euler_x'] ** 2 + \n                             actual['euler_y'] ** 2 + \n                             actual['euler_z'] ** 2) ** 5\n    \n    actual['angle_vs_acc'] = actual['total_angle'] / actual['total_lin_accel']\n    actual['angle_vs_vel'] = actual['total_angle'] / actual['total_rot_ke']\n    \n    return actual",
      "execution_count": null,
      "outputs": []
    },
    {
      "metadata": {
        "trusted": true,
        "_uuid": "abdfd70ae904f31fa0afb4a3e25cd70a011c6748"
      },
      "cell_type": "code",
      "source": "tr = fe_ph(tr)\nte = fe_ph(te)",
      "execution_count": null,
      "outputs": []
    },
    {
      "metadata": {
        "trusted": true,
        "_uuid": "8d1523957e6fecdb2cdc185969ad0214cb025d49"
      },
      "cell_type": "code",
      "source": "# Checkpoint 2 - Saving data\nstore['tr_2'] = tr\nstore['te_2'] = te",
      "execution_count": null,
      "outputs": []
    },
    {
      "metadata": {
        "trusted": true,
        "_uuid": "65348ddcdb19f62acb564b198e447059baf227bb"
      },
      "cell_type": "code",
      "source": "tr = store['tr_2']\nte = store['te_2']",
      "execution_count": null,
      "outputs": []
    },
    {
      "metadata": {
        "trusted": true,
        "_uuid": "7fbbe83489e953641001a36a0bda4eee04b31e23"
      },
      "cell_type": "code",
      "source": "# Change of Change calc function - 2nd Order Derivative\ndef f1(x):\n    return np.mean(np.diff(np.abs(np.diff(x))))\n    \n#  Change calc function - 1st order Derivative\ndef f2(x):\n    return np.mean(np.abs(np.diff(x)))\n\ndef slope(x):\n    ",
      "execution_count": null,
      "outputs": []
    },
    {
      "metadata": {
        "trusted": true,
        "_uuid": "a0e039384e4f371d0f60d4f191f3408767f7bba8"
      },
      "cell_type": "code",
      "source": "# Feature Engineering - Statistics\n# Capturing the essense of time series in to statistical features.\n\ndef fe(actual):\n    new = pd.DataFrame()\n\n    # Mean, Min, Max, Std and Max/Min Calculations.\n    for col in actual.columns:\n        if col in ['row_id', 'series_id', 'measurement_number']:\n            continue\n        new[col + '_mean'] = actual.groupby(['series_id'])[col].mean()\n        new[col + '_min'] = actual.groupby(['series_id'])[col].min()\n        new[col + '_max'] = actual.groupby(['series_id'])[col].max()\n        new[col + '_std'] = actual.groupby(['series_id'])[col].std()\n        new[col + '_max_to_min'] = new[col + '_max'] / new[col + '_min']\n        \n        # Change. 1st order.\n        new[col + '_mean_abs_change'] = actual.groupby('series_id')[col].apply(f2)\n        \n        # Change of Change. 2nd order.\n        new[col + '_mean_change_of_abs_change'] = actual.groupby('series_id')[col].apply(f1)\n        \n        # Abslute max and min\n        new[col + '_abs_max'] = actual.groupby('series_id')[col].apply(lambda x: np.max(np.abs(x)))\n        new[col + '_abs_min'] = actual.groupby('series_id')[col].apply(lambda x: np.min(np.abs(x)))\n\n    return new",
      "execution_count": null,
      "outputs": []
    },
    {
      "metadata": {
        "trusted": true,
        "_uuid": "6b50ea1b002ea7c24d2e08358629376e4c5b8919"
      },
      "cell_type": "code",
      "source": "import time\nstart = time.time()\ntr = fe(tr)\nte = fe(te)\nprint(\"Complete in %s seconds\" % (time.time()-start))",
      "execution_count": null,
      "outputs": []
    },
    {
      "metadata": {
        "trusted": true,
        "_uuid": "f9bbf04279ef849fdd3ca914ba1ca81d517fb54e"
      },
      "cell_type": "code",
      "source": "tr.head()",
      "execution_count": null,
      "outputs": []
    },
    {
      "metadata": {
        "trusted": true,
        "_uuid": "11fd6d3fe99d392679dbccba1a1f21a9d07549d0"
      },
      "cell_type": "code",
      "source": "# Checkpoint 3\nstore['tr_3'] = tr\nstore['te_3'] = te\nstore.close()",
      "execution_count": null,
      "outputs": []
    },
    {
      "metadata": {
        "trusted": true,
        "_uuid": "266b19c4080675a9ae6ef88f1dabe1c0143d6af4"
      },
      "cell_type": "code",
      "source": "drops = ['linear_velocity_X_min','linear_velocity_X_max_to_min','linear_velocity_Y_min','linear_velocity_Y_max_to_min','linear_velocity_Z_min','linear_velocity_Z_max_to_min',\n        'linear_velocity_X_mean_abs_change','linear_velocity_Y_mean_abs_change','linear_velocity_Z_mean_abs_change',\n        'linear_velocity_X_mean_change_of_abs_change','linear_velocity_Y_mean_change_of_abs_change','linear_velocity_Z_mean_change_of_abs_change']",
      "execution_count": null,
      "outputs": []
    },
    {
      "metadata": {
        "trusted": true,
        "_uuid": "5ba47cf01fad4b7e2af55c8803fd2e1ebaca28d0"
      },
      "cell_type": "code",
      "source": "tr.drop(drops, axis=1, inplace=True)\nte.drop(drops, axis=1, inplace=True)",
      "execution_count": null,
      "outputs": []
    },
    {
      "metadata": {
        "trusted": true,
        "_uuid": "6ca882d95b21e00e4b8f290a73435cd3bb05068b"
      },
      "cell_type": "code",
      "source": "# Now we Train the Model\nfrom sklearn.preprocessing import LabelEncoder\nle = LabelEncoder()\ntarget['surface'] = le.fit_transform(target['surface'])",
      "execution_count": null,
      "outputs": []
    },
    {
      "metadata": {
        "trusted": true,
        "scrolled": true,
        "_uuid": "fa78a6ed5ed46f01d74d9bb97b33dcd9ab7b5399"
      },
      "cell_type": "code",
      "source": "from sklearn.ensemble import RandomForestClassifier\nfrom sklearn.model_selection import KFold, StratifiedKFold\nfolds = StratifiedKFold(n_splits=21, shuffle=True, random_state=89)\nsub_preds_rf = np.zeros((te.shape[0], 9))\noof_preds_rf = np.zeros((tr.shape[0]))\nscore = 0\nfor i, (train_index, test_index) in enumerate(folds.split(tr, target['surface'])):\n    print('-'*20, i, '-'*20)\n    \n    clf =  RandomForestClassifier(n_estimators = 200, n_jobs = -1)\n    clf.fit(tr.iloc[train_index], target['surface'][train_index])\n    oof_preds_rf[test_index] = clf.predict(tr.iloc[test_index])\n    sub_preds_rf += clf.predict_proba(te) / folds.n_splits\n    score += clf.score(tr.iloc[test_index], target['surface'][test_index])\n    print('score ', clf.score(tr.iloc[test_index], target['surface'][test_index]))\n    importances = clf.feature_importances_\n    indices = np.argsort(importances)\n    features = tr.columns\n\n    hm = 30\n    plt.figure(figsize=(7, 10))\n    plt.title('Feature Importances')\n    plt.barh(range(len(indices[:hm])), importances[indices][:hm], color='b', align='center')\n    plt.yticks(range(len(indices[:hm])), [features[i] for i in indices])\n    plt.xlabel('Relative Importance')\n    plt.show()\n\nprint('Avg Accuracy', score / folds.n_splits)",
      "execution_count": null,
      "outputs": []
    },
    {
      "metadata": {
        "trusted": true,
        "_uuid": "008cdf3c3b583d269658a7c2c95bc6145e51fed2"
      },
      "cell_type": "code",
      "source": "import itertools\n\ndef plot_confusion_matrix(truth, pred, classes, normalize=False, title=''):\n    cm = confusion_matrix(truth, pred)\n    if normalize:\n        cm = cm.astype('float') / cm.sum(axis=1)[:, np.newaxis]\n    \n    plt.figure(figsize=(10, 10))\n    plt.imshow(cm, interpolation='nearest', cmap=plt.cm.Blues)\n    plt.title('Confusion matrix', size=15)\n    plt.colorbar(fraction=0.046, pad=0.04)\n    tick_marks = np.arange(len(classes))\n    plt.xticks(tick_marks, classes, rotation=45)\n    plt.yticks(tick_marks, classes)\n\n    fmt = '.2f' if normalize else 'd'\n    thresh = cm.max() / 2.\n    for i, j in itertools.product(range(cm.shape[0]), range(cm.shape[1])):\n        plt.text(j, i, format(cm[i, j], fmt),\n                 horizontalalignment=\"center\",\n                 color=\"white\" if cm[i, j] > thresh else \"black\")\n\n    plt.ylabel('True label')\n    plt.xlabel('Predicted label')\n    plt.grid(False)\n    plt.tight_layout()",
      "execution_count": null,
      "outputs": []
    },
    {
      "metadata": {
        "trusted": true,
        "_uuid": "18a73eb42a861968f31b7f3420f1db726b62ea93"
      },
      "cell_type": "code",
      "source": "from sklearn.metrics import accuracy_score, confusion_matrix\nplot_confusion_matrix(target['surface'], oof_preds_rf, le.classes_)",
      "execution_count": null,
      "outputs": []
    },
    {
      "metadata": {
        "trusted": true,
        "_uuid": "f6df8d9d5be237feceddbdbf6b4844dc7c3baadd"
      },
      "cell_type": "code",
      "source": "ss['surface'] = le.inverse_transform(sub_preds_rf.argmax(axis=1))\nss.to_csv('rf.csv', index=False)\nss.head(10)",
      "execution_count": null,
      "outputs": []
    }
  ],
  "metadata": {
    "kernelspec": {
      "display_name": "Python 3",
      "language": "python",
      "name": "python3"
    },
    "language_info": {
      "name": "python",
      "version": "3.6.6",
      "mimetype": "text/x-python",
      "codemirror_mode": {
        "name": "ipython",
        "version": 3
      },
      "pygments_lexer": "ipython3",
      "nbconvert_exporter": "python",
      "file_extension": ".py"
    }
  },
  "nbformat": 4,
  "nbformat_minor": 1
}